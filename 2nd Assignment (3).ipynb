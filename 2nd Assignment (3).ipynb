{
 "cells": [
  {
   "cell_type": "code",
   "execution_count": 2,
   "id": "ec9aa0ab",
   "metadata": {
    "ExecuteTime": {
     "end_time": "2023-03-13T14:15:09.227485Z",
     "start_time": "2023-03-13T14:15:05.989118Z"
    }
   },
   "outputs": [],
   "source": [
    "import warnings\n",
    "warnings.filterwarnings('ignore')\n",
    "import pandas as pd\n",
    "import numpy as np\n",
    "import scipy\n",
    "from scipy import stats"
   ]
  },
  {
   "cell_type": "markdown",
   "id": "2a678092",
   "metadata": {},
   "source": [
    "# Set 1 -Q1"
   ]
  },
  {
   "cell_type": "code",
   "execution_count": 4,
   "id": "7b9096cb",
   "metadata": {
    "ExecuteTime": {
     "end_time": "2023-03-13T14:18:26.937277Z",
     "start_time": "2023-03-13T14:18:26.872417Z"
    }
   },
   "outputs": [
    {
     "data": {
      "text/html": [
       "<div>\n",
       "<style scoped>\n",
       "    .dataframe tbody tr th:only-of-type {\n",
       "        vertical-align: middle;\n",
       "    }\n",
       "\n",
       "    .dataframe tbody tr th {\n",
       "        vertical-align: top;\n",
       "    }\n",
       "\n",
       "    .dataframe thead th {\n",
       "        text-align: right;\n",
       "    }\n",
       "</style>\n",
       "<table border=\"1\" class=\"dataframe\">\n",
       "  <thead>\n",
       "    <tr style=\"text-align: right;\">\n",
       "      <th></th>\n",
       "      <th>Unnamed: 0</th>\n",
       "      <th>Name of company</th>\n",
       "      <th>Measure X</th>\n",
       "    </tr>\n",
       "  </thead>\n",
       "  <tbody>\n",
       "    <tr>\n",
       "      <th>0</th>\n",
       "      <td>NaN</td>\n",
       "      <td>Allied Signal</td>\n",
       "      <td>0.2423</td>\n",
       "    </tr>\n",
       "    <tr>\n",
       "      <th>1</th>\n",
       "      <td>NaN</td>\n",
       "      <td>Bankers Trust</td>\n",
       "      <td>0.2553</td>\n",
       "    </tr>\n",
       "    <tr>\n",
       "      <th>2</th>\n",
       "      <td>NaN</td>\n",
       "      <td>General Mills</td>\n",
       "      <td>0.2541</td>\n",
       "    </tr>\n",
       "    <tr>\n",
       "      <th>3</th>\n",
       "      <td>NaN</td>\n",
       "      <td>ITT Industries</td>\n",
       "      <td>0.2414</td>\n",
       "    </tr>\n",
       "    <tr>\n",
       "      <th>4</th>\n",
       "      <td>NaN</td>\n",
       "      <td>J.P.Morgan &amp; Co.</td>\n",
       "      <td>0.2962</td>\n",
       "    </tr>\n",
       "    <tr>\n",
       "      <th>5</th>\n",
       "      <td>NaN</td>\n",
       "      <td>Lehman Brothers</td>\n",
       "      <td>0.2825</td>\n",
       "    </tr>\n",
       "    <tr>\n",
       "      <th>6</th>\n",
       "      <td>NaN</td>\n",
       "      <td>Marriott</td>\n",
       "      <td>0.2581</td>\n",
       "    </tr>\n",
       "    <tr>\n",
       "      <th>7</th>\n",
       "      <td>NaN</td>\n",
       "      <td>MCI</td>\n",
       "      <td>0.2439</td>\n",
       "    </tr>\n",
       "    <tr>\n",
       "      <th>8</th>\n",
       "      <td>NaN</td>\n",
       "      <td>Merrill Lynch</td>\n",
       "      <td>0.4026</td>\n",
       "    </tr>\n",
       "    <tr>\n",
       "      <th>9</th>\n",
       "      <td>NaN</td>\n",
       "      <td>Microsoft</td>\n",
       "      <td>0.3295</td>\n",
       "    </tr>\n",
       "    <tr>\n",
       "      <th>10</th>\n",
       "      <td>NaN</td>\n",
       "      <td>Morgan Stanley</td>\n",
       "      <td>0.9136</td>\n",
       "    </tr>\n",
       "    <tr>\n",
       "      <th>11</th>\n",
       "      <td>NaN</td>\n",
       "      <td>Sun Microsystems</td>\n",
       "      <td>0.2599</td>\n",
       "    </tr>\n",
       "    <tr>\n",
       "      <th>12</th>\n",
       "      <td>NaN</td>\n",
       "      <td>Travelers</td>\n",
       "      <td>0.3942</td>\n",
       "    </tr>\n",
       "    <tr>\n",
       "      <th>13</th>\n",
       "      <td>NaN</td>\n",
       "      <td>US Airways</td>\n",
       "      <td>0.2671</td>\n",
       "    </tr>\n",
       "    <tr>\n",
       "      <th>14</th>\n",
       "      <td>NaN</td>\n",
       "      <td>Warner-Lambert</td>\n",
       "      <td>0.3500</td>\n",
       "    </tr>\n",
       "    <tr>\n",
       "      <th>15</th>\n",
       "      <td>NaN</td>\n",
       "      <td>NaN</td>\n",
       "      <td>NaN</td>\n",
       "    </tr>\n",
       "    <tr>\n",
       "      <th>16</th>\n",
       "      <td>NaN</td>\n",
       "      <td></td>\n",
       "      <td>NaN</td>\n",
       "    </tr>\n",
       "    <tr>\n",
       "      <th>17</th>\n",
       "      <td>NaN</td>\n",
       "      <td>NaN</td>\n",
       "      <td>NaN</td>\n",
       "    </tr>\n",
       "    <tr>\n",
       "      <th>18</th>\n",
       "      <td>NaN</td>\n",
       "      <td></td>\n",
       "      <td>NaN</td>\n",
       "    </tr>\n",
       "    <tr>\n",
       "      <th>19</th>\n",
       "      <td>NaN</td>\n",
       "      <td>NaN</td>\n",
       "      <td>NaN</td>\n",
       "    </tr>\n",
       "    <tr>\n",
       "      <th>20</th>\n",
       "      <td>NaN</td>\n",
       "      <td></td>\n",
       "      <td>NaN</td>\n",
       "    </tr>\n",
       "    <tr>\n",
       "      <th>21</th>\n",
       "      <td>NaN</td>\n",
       "      <td>NaN</td>\n",
       "      <td>NaN</td>\n",
       "    </tr>\n",
       "    <tr>\n",
       "      <th>22</th>\n",
       "      <td>NaN</td>\n",
       "      <td></td>\n",
       "      <td>NaN</td>\n",
       "    </tr>\n",
       "    <tr>\n",
       "      <th>23</th>\n",
       "      <td>NaN</td>\n",
       "      <td>NaN</td>\n",
       "      <td>NaN</td>\n",
       "    </tr>\n",
       "    <tr>\n",
       "      <th>24</th>\n",
       "      <td>NaN</td>\n",
       "      <td></td>\n",
       "      <td>NaN</td>\n",
       "    </tr>\n",
       "    <tr>\n",
       "      <th>25</th>\n",
       "      <td>NaN</td>\n",
       "      <td>NaN</td>\n",
       "      <td>NaN</td>\n",
       "    </tr>\n",
       "    <tr>\n",
       "      <th>26</th>\n",
       "      <td>NaN</td>\n",
       "      <td></td>\n",
       "      <td>NaN</td>\n",
       "    </tr>\n",
       "    <tr>\n",
       "      <th>27</th>\n",
       "      <td>NaN</td>\n",
       "      <td>NaN</td>\n",
       "      <td>NaN</td>\n",
       "    </tr>\n",
       "    <tr>\n",
       "      <th>28</th>\n",
       "      <td>NaN</td>\n",
       "      <td></td>\n",
       "      <td>NaN</td>\n",
       "    </tr>\n",
       "    <tr>\n",
       "      <th>29</th>\n",
       "      <td>NaN</td>\n",
       "      <td>NaN</td>\n",
       "      <td>NaN</td>\n",
       "    </tr>\n",
       "    <tr>\n",
       "      <th>30</th>\n",
       "      <td>NaN</td>\n",
       "      <td></td>\n",
       "      <td>NaN</td>\n",
       "    </tr>\n",
       "    <tr>\n",
       "      <th>31</th>\n",
       "      <td>NaN</td>\n",
       "      <td>NaN</td>\n",
       "      <td>NaN</td>\n",
       "    </tr>\n",
       "    <tr>\n",
       "      <th>32</th>\n",
       "      <td>NaN</td>\n",
       "      <td></td>\n",
       "      <td>NaN</td>\n",
       "    </tr>\n",
       "    <tr>\n",
       "      <th>33</th>\n",
       "      <td>NaN</td>\n",
       "      <td>NaN</td>\n",
       "      <td>NaN</td>\n",
       "    </tr>\n",
       "    <tr>\n",
       "      <th>34</th>\n",
       "      <td>NaN</td>\n",
       "      <td></td>\n",
       "      <td>NaN</td>\n",
       "    </tr>\n",
       "    <tr>\n",
       "      <th>35</th>\n",
       "      <td>NaN</td>\n",
       "      <td>NaN</td>\n",
       "      <td>NaN</td>\n",
       "    </tr>\n",
       "    <tr>\n",
       "      <th>36</th>\n",
       "      <td>NaN</td>\n",
       "      <td></td>\n",
       "      <td>NaN</td>\n",
       "    </tr>\n",
       "    <tr>\n",
       "      <th>37</th>\n",
       "      <td>NaN</td>\n",
       "      <td>NaN</td>\n",
       "      <td>NaN</td>\n",
       "    </tr>\n",
       "    <tr>\n",
       "      <th>38</th>\n",
       "      <td>NaN</td>\n",
       "      <td></td>\n",
       "      <td>NaN</td>\n",
       "    </tr>\n",
       "    <tr>\n",
       "      <th>39</th>\n",
       "      <td>NaN</td>\n",
       "      <td>NaN</td>\n",
       "      <td>NaN</td>\n",
       "    </tr>\n",
       "    <tr>\n",
       "      <th>40</th>\n",
       "      <td>NaN</td>\n",
       "      <td></td>\n",
       "      <td>NaN</td>\n",
       "    </tr>\n",
       "    <tr>\n",
       "      <th>41</th>\n",
       "      <td>NaN</td>\n",
       "      <td>NaN</td>\n",
       "      <td>NaN</td>\n",
       "    </tr>\n",
       "    <tr>\n",
       "      <th>42</th>\n",
       "      <td>NaN</td>\n",
       "      <td></td>\n",
       "      <td>NaN</td>\n",
       "    </tr>\n",
       "    <tr>\n",
       "      <th>43</th>\n",
       "      <td>NaN</td>\n",
       "      <td>NaN</td>\n",
       "      <td>NaN</td>\n",
       "    </tr>\n",
       "    <tr>\n",
       "      <th>44</th>\n",
       "      <td>NaN</td>\n",
       "      <td></td>\n",
       "      <td>NaN</td>\n",
       "    </tr>\n",
       "    <tr>\n",
       "      <th>45</th>\n",
       "      <td>NaN</td>\n",
       "      <td>NaN</td>\n",
       "      <td>NaN</td>\n",
       "    </tr>\n",
       "    <tr>\n",
       "      <th>46</th>\n",
       "      <td>NaN</td>\n",
       "      <td></td>\n",
       "      <td>NaN</td>\n",
       "    </tr>\n",
       "    <tr>\n",
       "      <th>47</th>\n",
       "      <td>NaN</td>\n",
       "      <td>NaN</td>\n",
       "      <td>NaN</td>\n",
       "    </tr>\n",
       "    <tr>\n",
       "      <th>48</th>\n",
       "      <td>NaN</td>\n",
       "      <td></td>\n",
       "      <td>NaN</td>\n",
       "    </tr>\n",
       "    <tr>\n",
       "      <th>49</th>\n",
       "      <td>NaN</td>\n",
       "      <td>NaN</td>\n",
       "      <td>NaN</td>\n",
       "    </tr>\n",
       "    <tr>\n",
       "      <th>50</th>\n",
       "      <td>NaN</td>\n",
       "      <td></td>\n",
       "      <td>NaN</td>\n",
       "    </tr>\n",
       "    <tr>\n",
       "      <th>51</th>\n",
       "      <td>NaN</td>\n",
       "      <td>NaN</td>\n",
       "      <td>NaN</td>\n",
       "    </tr>\n",
       "    <tr>\n",
       "      <th>52</th>\n",
       "      <td>NaN</td>\n",
       "      <td></td>\n",
       "      <td>NaN</td>\n",
       "    </tr>\n",
       "  </tbody>\n",
       "</table>\n",
       "</div>"
      ],
      "text/plain": [
       "    Unnamed: 0   Name of company  Measure X\n",
       "0          NaN     Allied Signal     0.2423\n",
       "1          NaN     Bankers Trust     0.2553\n",
       "2          NaN     General Mills     0.2541\n",
       "3          NaN    ITT Industries     0.2414\n",
       "4          NaN  J.P.Morgan & Co.     0.2962\n",
       "5          NaN   Lehman Brothers     0.2825\n",
       "6          NaN          Marriott     0.2581\n",
       "7          NaN               MCI     0.2439\n",
       "8          NaN     Merrill Lynch     0.4026\n",
       "9          NaN         Microsoft     0.3295\n",
       "10         NaN    Morgan Stanley     0.9136\n",
       "11         NaN  Sun Microsystems     0.2599\n",
       "12         NaN         Travelers     0.3942\n",
       "13         NaN        US Airways     0.2671\n",
       "14         NaN    Warner-Lambert     0.3500\n",
       "15         NaN               NaN        NaN\n",
       "16         NaN                          NaN\n",
       "17         NaN               NaN        NaN\n",
       "18         NaN                          NaN\n",
       "19         NaN               NaN        NaN\n",
       "20         NaN                          NaN\n",
       "21         NaN               NaN        NaN\n",
       "22         NaN                          NaN\n",
       "23         NaN               NaN        NaN\n",
       "24         NaN                          NaN\n",
       "25         NaN               NaN        NaN\n",
       "26         NaN                          NaN\n",
       "27         NaN               NaN        NaN\n",
       "28         NaN                          NaN\n",
       "29         NaN               NaN        NaN\n",
       "30         NaN                          NaN\n",
       "31         NaN               NaN        NaN\n",
       "32         NaN                          NaN\n",
       "33         NaN               NaN        NaN\n",
       "34         NaN                          NaN\n",
       "35         NaN               NaN        NaN\n",
       "36         NaN                          NaN\n",
       "37         NaN               NaN        NaN\n",
       "38         NaN                          NaN\n",
       "39         NaN               NaN        NaN\n",
       "40         NaN                          NaN\n",
       "41         NaN               NaN        NaN\n",
       "42         NaN                          NaN\n",
       "43         NaN               NaN        NaN\n",
       "44         NaN                          NaN\n",
       "45         NaN               NaN        NaN\n",
       "46         NaN                          NaN\n",
       "47         NaN               NaN        NaN\n",
       "48         NaN                          NaN\n",
       "49         NaN               NaN        NaN\n",
       "50         NaN                          NaN\n",
       "51         NaN               NaN        NaN\n",
       "52         NaN                          NaN"
      ]
     },
     "execution_count": 4,
     "metadata": {},
     "output_type": "execute_result"
    }
   ],
   "source": [
    "df =pd.read_excel('Book3.xlsx')\n",
    "df"
   ]
  },
  {
   "cell_type": "code",
   "execution_count": 5,
   "id": "a486d3ce",
   "metadata": {
    "ExecuteTime": {
     "end_time": "2023-03-13T14:18:41.606390Z",
     "start_time": "2023-03-13T14:18:41.582394Z"
    }
   },
   "outputs": [
    {
     "data": {
      "text/plain": [
       "Unnamed: 0         NaN\n",
       "Measure X     0.332713\n",
       "dtype: float64"
      ]
     },
     "execution_count": 5,
     "metadata": {},
     "output_type": "execute_result"
    }
   ],
   "source": [
    "#Calculation of population mean of data (μ)\n",
    "df.mean()"
   ]
  },
  {
   "cell_type": "code",
   "execution_count": 6,
   "id": "4a745959",
   "metadata": {
    "ExecuteTime": {
     "end_time": "2023-03-13T14:18:50.553988Z",
     "start_time": "2023-03-13T14:18:50.529988Z"
    }
   },
   "outputs": [
    {
     "data": {
      "text/plain": [
       "Unnamed: 0         NaN\n",
       "Measure X     0.028715\n",
       "dtype: float64"
      ]
     },
     "execution_count": 6,
     "metadata": {},
     "output_type": "execute_result"
    }
   ],
   "source": [
    "#Calculation of Variance of data(σ^2)\n",
    "df.var()"
   ]
  },
  {
   "cell_type": "code",
   "execution_count": 7,
   "id": "4d8706f5",
   "metadata": {
    "ExecuteTime": {
     "end_time": "2023-03-13T14:19:01.323447Z",
     "start_time": "2023-03-13T14:19:01.299451Z"
    }
   },
   "outputs": [
    {
     "data": {
      "text/plain": [
       "Unnamed: 0         NaN\n",
       "Measure X     0.169454\n",
       "dtype: float64"
      ]
     },
     "execution_count": 7,
     "metadata": {},
     "output_type": "execute_result"
    }
   ],
   "source": [
    "#Calculation of Standard deviation of data(σ)\n",
    "df.std()"
   ]
  },
  {
   "cell_type": "markdown",
   "id": "4054a131",
   "metadata": {},
   "source": [
    "# Q4"
   ]
  },
  {
   "cell_type": "code",
   "execution_count": 8,
   "id": "e7ed65e1",
   "metadata": {
    "ExecuteTime": {
     "end_time": "2023-03-13T14:23:13.553099Z",
     "start_time": "2023-03-13T14:23:13.512992Z"
    }
   },
   "outputs": [
    {
     "data": {
      "text/html": [
       "<div>\n",
       "<style scoped>\n",
       "    .dataframe tbody tr th:only-of-type {\n",
       "        vertical-align: middle;\n",
       "    }\n",
       "\n",
       "    .dataframe tbody tr th {\n",
       "        vertical-align: top;\n",
       "    }\n",
       "\n",
       "    .dataframe thead th {\n",
       "        text-align: right;\n",
       "    }\n",
       "</style>\n",
       "<table border=\"1\" class=\"dataframe\">\n",
       "  <thead>\n",
       "    <tr style=\"text-align: right;\">\n",
       "      <th></th>\n",
       "      <th>x</th>\n",
       "      <th>P(x)</th>\n",
       "    </tr>\n",
       "  </thead>\n",
       "  <tbody>\n",
       "    <tr>\n",
       "      <th>0</th>\n",
       "      <td>-2000</td>\n",
       "      <td>0.1</td>\n",
       "    </tr>\n",
       "    <tr>\n",
       "      <th>1</th>\n",
       "      <td>-1000</td>\n",
       "      <td>0.1</td>\n",
       "    </tr>\n",
       "    <tr>\n",
       "      <th>2</th>\n",
       "      <td>0</td>\n",
       "      <td>0.2</td>\n",
       "    </tr>\n",
       "    <tr>\n",
       "      <th>3</th>\n",
       "      <td>1000</td>\n",
       "      <td>0.2</td>\n",
       "    </tr>\n",
       "    <tr>\n",
       "      <th>4</th>\n",
       "      <td>2000</td>\n",
       "      <td>0.3</td>\n",
       "    </tr>\n",
       "    <tr>\n",
       "      <th>5</th>\n",
       "      <td>3000</td>\n",
       "      <td>0.1</td>\n",
       "    </tr>\n",
       "    <tr>\n",
       "      <th>6</th>\n",
       "      <td>NaN</td>\n",
       "      <td>NaN</td>\n",
       "    </tr>\n",
       "    <tr>\n",
       "      <th>7</th>\n",
       "      <td></td>\n",
       "      <td>NaN</td>\n",
       "    </tr>\n",
       "  </tbody>\n",
       "</table>\n",
       "</div>"
      ],
      "text/plain": [
       "       x  P(x)\n",
       "0  -2000   0.1\n",
       "1  -1000   0.1\n",
       "2      0   0.2\n",
       "3   1000   0.2\n",
       "4   2000   0.3\n",
       "5   3000   0.1\n",
       "6    NaN   NaN\n",
       "7          NaN"
      ]
     },
     "execution_count": 8,
     "metadata": {},
     "output_type": "execute_result"
    }
   ],
   "source": [
    "df_1=pd.read_excel('Book4.xlsx')\n",
    "df_1"
   ]
  },
  {
   "cell_type": "code",
   "execution_count": 9,
   "id": "66610774",
   "metadata": {
    "ExecuteTime": {
     "end_time": "2023-03-13T14:23:36.962246Z",
     "start_time": "2023-03-13T14:23:36.930090Z"
    }
   },
   "outputs": [
    {
     "data": {
      "text/plain": [
       "P(x)    0.166667\n",
       "dtype: float64"
      ]
     },
     "execution_count": 9,
     "metadata": {},
     "output_type": "execute_result"
    }
   ],
   "source": [
    "#Calculation of longterm average earnings of data- mean of data (μ)\n",
    "df_1.mean()"
   ]
  },
  {
   "cell_type": "code",
   "execution_count": 10,
   "id": "aa52745a",
   "metadata": {
    "ExecuteTime": {
     "end_time": "2023-03-13T14:23:52.248209Z",
     "start_time": "2023-03-13T14:23:52.232209Z"
    }
   },
   "outputs": [
    {
     "data": {
      "text/plain": [
       "P(x)    0.08165\n",
       "dtype: float64"
      ]
     },
     "execution_count": 10,
     "metadata": {},
     "output_type": "execute_result"
    }
   ],
   "source": [
    "#Calculation of best measure for risk of data-Standard deviation of data(σ)\n",
    "df_1.std()"
   ]
  },
  {
   "cell_type": "markdown",
   "id": "c7b1879f",
   "metadata": {},
   "source": [
    "# Set 2_Q1"
   ]
  },
  {
   "cell_type": "code",
   "execution_count": 11,
   "id": "2037233c",
   "metadata": {
    "ExecuteTime": {
     "end_time": "2023-03-13T14:23:57.877471Z",
     "start_time": "2023-03-13T14:23:57.853469Z"
    }
   },
   "outputs": [
    {
     "data": {
      "text/plain": [
       "0.26598552904870054"
      ]
     },
     "execution_count": 11,
     "metadata": {},
     "output_type": "execute_result"
    }
   ],
   "source": [
    "# calculation of the probability of servicing time to be more than 50 min\n",
    "1-stats.norm.cdf(50,45,8)"
   ]
  },
  {
   "cell_type": "markdown",
   "id": "09a028ff",
   "metadata": {},
   "source": [
    "# Set 2_Q2_B"
   ]
  },
  {
   "cell_type": "code",
   "execution_count": 12,
   "id": "04a67e96",
   "metadata": {
    "ExecuteTime": {
     "end_time": "2023-03-13T14:24:00.278274Z",
     "start_time": "2023-03-13T14:24:00.262262Z"
    }
   },
   "outputs": [
    {
     "data": {
      "text/plain": [
       "0.09121121972586788"
      ]
     },
     "execution_count": 12,
     "metadata": {},
     "output_type": "execute_result"
    }
   ],
   "source": [
    "# calculation of the proprtion of no employees below 30\n",
    "stats.norm.cdf(30,38,6)"
   ]
  },
  {
   "cell_type": "code",
   "execution_count": 13,
   "id": "c04c6649",
   "metadata": {
    "ExecuteTime": {
     "end_time": "2023-03-13T14:24:02.662155Z",
     "start_time": "2023-03-13T14:24:02.646157Z"
    }
   },
   "outputs": [
    {
     "data": {
      "text/plain": [
       "36.4"
      ]
     },
     "execution_count": 13,
     "metadata": {},
     "output_type": "execute_result"
    }
   ],
   "source": [
    "#No of employees below the age 30.  n=400\n",
    "0.091*400"
   ]
  },
  {
   "cell_type": "markdown",
   "id": "6e7769b9",
   "metadata": {},
   "source": [
    "# Set 2_Q4"
   ]
  },
  {
   "cell_type": "code",
   "execution_count": 7,
   "id": "d0ee2203",
   "metadata": {
    "ExecuteTime": {
     "end_time": "2023-03-13T04:29:17.497241Z",
     "start_time": "2023-03-13T04:29:17.481243Z"
    }
   },
   "outputs": [
    {
     "data": {
      "text/plain": [
       "(48.48341392902199, 151.516586070978)"
      ]
     },
     "execution_count": 7,
     "metadata": {},
     "output_type": "execute_result"
    }
   ],
   "source": [
    "# finding 99% confidence interval\n",
    "stats.norm.interval(.99,100,20)"
   ]
  },
  {
   "cell_type": "markdown",
   "id": "b491292e",
   "metadata": {},
   "source": [
    "# Set 2_Q5_A"
   ]
  },
  {
   "cell_type": "code",
   "execution_count": 8,
   "id": "b151ee5a",
   "metadata": {
    "ExecuteTime": {
     "end_time": "2023-03-13T04:30:28.425048Z",
     "start_time": "2023-03-13T04:30:28.409049Z"
    }
   },
   "outputs": [
    {
     "data": {
      "text/plain": [
       "540"
      ]
     },
     "execution_count": 8,
     "metadata": {},
     "output_type": "execute_result"
    }
   ],
   "source": [
    "#calculation of company's mean profits for two devisions in rupees\n",
    "#mean of Profit 1 =5;Mean of Profit 2 =7\n",
    "#Company's annual profit mean in million dollers = 5+7 =12\n",
    "#annual profit mean in Rupees(mean in million dollers*45)  1$= 45 rupees\n",
    "12*45"
   ]
  },
  {
   "cell_type": "code",
   "execution_count": 9,
   "id": "9ba6d161",
   "metadata": {
    "ExecuteTime": {
     "end_time": "2023-03-13T04:30:53.369335Z",
     "start_time": "2023-03-13T04:30:53.345335Z"
    }
   },
   "outputs": [
    {
     "data": {
      "text/plain": [
       "225.0"
      ]
     },
     "execution_count": 9,
     "metadata": {},
     "output_type": "execute_result"
    }
   ],
   "source": [
    "#calculation of company's standard deviation of profits for two devisions in rupees\n",
    "#variance of Profit 1 =9;variance of Profit 2 =16\n",
    "#variance of (X+Y)=Variance(X)+Variance(Y)     #SD= square root of variance\n",
    "#annual profit SD in Rupees(SD in million dollers*45)  1$= 45 rupees\n",
    "np.sqrt((9)+(16))*45"
   ]
  },
  {
   "cell_type": "code",
   "execution_count": 10,
   "id": "f9460da9",
   "metadata": {
    "ExecuteTime": {
     "end_time": "2023-03-13T04:31:07.554464Z",
     "start_time": "2023-03-13T04:31:07.538462Z"
    }
   },
   "outputs": [
    {
     "data": {
      "text/plain": [
       "(99.00810347848784, 980.9918965215122)"
      ]
     },
     "execution_count": 10,
     "metadata": {},
     "output_type": "execute_result"
    }
   ],
   "source": [
    "#calculation of 95% confident profit range of division 2\n",
    "stats.norm.interval(.95,540,225)"
   ]
  },
  {
   "cell_type": "markdown",
   "id": "fa3cdc1a",
   "metadata": {},
   "source": [
    "# Set 2_Q5_B"
   ]
  },
  {
   "cell_type": "code",
   "execution_count": 11,
   "id": "052cc7e5",
   "metadata": {
    "ExecuteTime": {
     "end_time": "2023-03-13T04:31:17.354379Z",
     "start_time": "2023-03-13T04:31:17.330366Z"
    }
   },
   "outputs": [
    {
     "data": {
      "text/plain": [
       "170.0"
      ]
     },
     "execution_count": 11,
     "metadata": {},
     "output_type": "execute_result"
    }
   ],
   "source": [
    "#calculation of 5th percentile profit range of division 2\n",
    "np.round(stats.norm.ppf(0.05,540,225))"
   ]
  },
  {
   "cell_type": "markdown",
   "id": "4ce65f75",
   "metadata": {},
   "source": [
    "# Set 2_Q5_C"
   ]
  },
  {
   "cell_type": "code",
   "execution_count": 12,
   "id": "f1c12473",
   "metadata": {
    "ExecuteTime": {
     "end_time": "2023-03-13T04:31:23.456509Z",
     "start_time": "2023-03-13T04:31:23.440512Z"
    }
   },
   "outputs": [
    {
     "data": {
      "text/plain": [
       "0.0477903522728147"
      ]
     },
     "execution_count": 12,
     "metadata": {},
     "output_type": "execute_result"
    }
   ],
   "source": [
    "#calculation of probability of devision 1 making loss\n",
    "stats.norm.cdf(0,(5*45),(3*45))"
   ]
  },
  {
   "cell_type": "code",
   "execution_count": 13,
   "id": "7e66624c",
   "metadata": {
    "ExecuteTime": {
     "end_time": "2023-03-13T04:31:25.934922Z",
     "start_time": "2023-03-13T04:31:25.918923Z"
    }
   },
   "outputs": [
    {
     "data": {
      "text/plain": [
       "0.040059156863817086"
      ]
     },
     "execution_count": 13,
     "metadata": {},
     "output_type": "execute_result"
    }
   ],
   "source": [
    "#calculation of probability of devision 2 making loss\n",
    "stats.norm.cdf(0,(7*45),(4*45))"
   ]
  },
  {
   "cell_type": "code",
   "execution_count": 14,
   "id": "3ecaafc7",
   "metadata": {
    "ExecuteTime": {
     "end_time": "2023-03-13T04:31:35.718006Z",
     "start_time": "2023-03-13T04:31:35.694008Z"
    }
   },
   "outputs": [],
   "source": [
    "#Division 1 have more probability of making loss"
   ]
  },
  {
   "cell_type": "markdown",
   "id": "29854104",
   "metadata": {},
   "source": [
    "# Set_3_Q8"
   ]
  },
  {
   "cell_type": "code",
   "execution_count": 15,
   "id": "906e6b6f",
   "metadata": {
    "ExecuteTime": {
     "end_time": "2023-03-13T04:31:39.065349Z",
     "start_time": "2023-03-13T04:31:39.049357Z"
    }
   },
   "outputs": [
    {
     "data": {
      "text/plain": [
       "1.959963984540054"
      ]
     },
     "execution_count": 15,
     "metadata": {},
     "output_type": "execute_result"
    }
   ],
   "source": [
    "#caluclaation of z score for 95% confidence interval\n",
    "stats.norm.ppf(.975)"
   ]
  },
  {
   "cell_type": "code",
   "execution_count": 16,
   "id": "649505eb",
   "metadata": {
    "ExecuteTime": {
     "end_time": "2023-03-13T04:31:41.327388Z",
     "start_time": "2023-03-13T04:31:41.303390Z"
    }
   },
   "outputs": [
    {
     "data": {
      "text/plain": [
       "600.2279407334571"
      ]
     },
     "execution_count": 16,
     "metadata": {},
     "output_type": "execute_result"
    }
   ],
   "source": [
    "#Sample size calculation from a infinite poupulation(confidence interval =95%;Margin of error=4%;Population proportion =50%)\n",
    "# formula S= Z^2 × P ×  (1−P)/M2\n",
    "((stats.norm.ppf(.975))**2)*(0.5)*((1-0.5)/(0.04)**2)"
   ]
  },
  {
   "cell_type": "markdown",
   "id": "29364d15",
   "metadata": {},
   "source": [
    "# Set_3_Q9"
   ]
  },
  {
   "cell_type": "code",
   "execution_count": 17,
   "id": "39f4679a",
   "metadata": {
    "ExecuteTime": {
     "end_time": "2023-03-13T04:31:48.849352Z",
     "start_time": "2023-03-13T04:31:48.825351Z"
    }
   },
   "outputs": [
    {
     "data": {
      "text/plain": [
       "2.3263478740408408"
      ]
     },
     "execution_count": 17,
     "metadata": {},
     "output_type": "execute_result"
    }
   ],
   "source": [
    "#caluclaation of z score for 98% confidence interval\n",
    "stats.norm.ppf(.99)"
   ]
  },
  {
   "cell_type": "code",
   "execution_count": 18,
   "id": "6f742981",
   "metadata": {
    "ExecuteTime": {
     "end_time": "2023-03-13T04:31:50.918997Z",
     "start_time": "2023-03-13T04:31:50.894997Z"
    }
   },
   "outputs": [
    {
     "data": {
      "text/plain": [
       "845.6085048522405"
      ]
     },
     "execution_count": 18,
     "metadata": {},
     "output_type": "execute_result"
    }
   ],
   "source": [
    "#Sample size calculation from a infinite poupulation(confidence interval =98%;Margin of error=4%;Population proportion =50%)\n",
    "# formula S= Z^2 × P ×  (1−P)/M2\n",
    "((stats.norm.ppf(.99))**2)*(0.5)*((1-0.5)/(0.04)**2)"
   ]
  },
  {
   "cell_type": "markdown",
   "id": "fd7be1db",
   "metadata": {},
   "source": [
    "# Set_4_Q3"
   ]
  },
  {
   "cell_type": "code",
   "execution_count": 19,
   "id": "bc2d52d8",
   "metadata": {
    "ExecuteTime": {
     "end_time": "2023-03-13T04:31:55.278862Z",
     "start_time": "2023-03-13T04:31:55.254863Z"
    }
   },
   "outputs": [
    {
     "data": {
      "text/plain": [
       "0.2112995473337107"
      ]
     },
     "execution_count": 19,
     "metadata": {},
     "output_type": "execute_result"
    }
   ],
   "source": [
    "#Probability of mean trasaction amount will not in b/w 45 to 55\n",
    "1-(stats.norm.cdf(55,50,4)-stats.norm.cdf(45,50,4))"
   ]
  }
 ],
 "metadata": {
  "kernelspec": {
   "display_name": "Python 3 (ipykernel)",
   "language": "python",
   "name": "python3"
  },
  "language_info": {
   "codemirror_mode": {
    "name": "ipython",
    "version": 3
   },
   "file_extension": ".py",
   "mimetype": "text/x-python",
   "name": "python",
   "nbconvert_exporter": "python",
   "pygments_lexer": "ipython3",
   "version": "3.9.13"
  }
 },
 "nbformat": 4,
 "nbformat_minor": 5
}
